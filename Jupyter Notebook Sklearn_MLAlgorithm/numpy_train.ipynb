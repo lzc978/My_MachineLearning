{
 "cells": [
  {
   "cell_type": "markdown",
   "metadata": {},
   "source": [
    "## numpy的基本对象numpy.ndarray & func"
   ]
  },
  {
   "cell_type": "code",
   "execution_count": 1,
   "metadata": {
    "scrolled": false
   },
   "outputs": [
    {
     "name": "stdout",
     "output_type": "stream",
     "text": [
      "对象类型：<class 'numpy.ndarray'>\n",
      "多维数组[[80 89 86 67 79]\n",
      " [78 97 89 67 81]\n",
      " [90 94 78 67 74]\n",
      " [91 91 90 67 69]\n",
      " [76 87 75 67 86]\n",
      " [70 79 84 67 84]\n",
      " [94 92 93 67 64]\n",
      " [86 85 83 67 80]]\n"
     ]
    }
   ],
   "source": [
    "import numpy as np\n",
    "\n",
    "# 创建ndarray\n",
    "score = np.array([[80, 89, 86, 67, 79],\n",
    "[78, 97, 89, 67, 81],\n",
    "[90, 94, 78, 67, 74],\n",
    "[91, 91, 90, 67, 69],\n",
    "[76, 87, 75, 67, 86],\n",
    "[70, 79, 84, 67, 84],\n",
    "[94, 92, 93, 67, 64],\n",
    "[86, 85, 83, 67, 80]])\n",
    "\n",
    "print(f\"对象类型：{type(score)}\\n多维数组{score}\")"
   ]
  },
  {
   "cell_type": "markdown",
   "metadata": {},
   "source": [
    "### 一维数组：ndarray与Python原生list运算效率对比"
   ]
  },
  {
   "cell_type": "code",
   "execution_count": 2,
   "metadata": {},
   "outputs": [
    {
     "name": "stdout",
     "output_type": "stream",
     "text": [
      "2.496142864227295 33.3729088306427\n"
     ]
    }
   ],
   "source": [
    "import random\n",
    "import time\n",
    "import numpy as np\n",
    "\n",
    "a = []\n",
    "for i in range(100000000):\n",
    "    a.append(random.random())\n",
    "t1 = time.time()\n",
    "sum1=sum(a)\n",
    "t2=time.time()\n",
    "\n",
    "b=np.array(a)\n",
    "t4=time.time()\n",
    "sum3=np.sum(b)\n",
    "t5=time.time()\n",
    "print(t2-t1, t5-t4)  # ndarray的速度非常快"
   ]
  },
  {
   "cell_type": "markdown",
   "metadata": {},
   "source": [
    "### ndarray的优越性\n",
    "- **1 内存块风格**\n",
    "    - ndarray中的所有元素的类型都是相同的，而Python列表中的元素类型是任意的，所以ndarray在存储元素时内存可以连续，而python原生lis就t只能通过寻址方式找到下一个元素，这虽然也导致了在通用性能方面Numpy的ndarray不及Python原生list，但在科学计算中，Numpy的ndarray就可以省掉很多循环语句，代码使用方面比Python原生list简单的多。\n",
    "- **2 ndarray支持并行化运算（向量化运算）**\n",
    "- **3 Numpy底层使用C语言编写，内部解除了GIL（全局解释器锁），其对数组的操作速度不受Python解释器的限制，效率远高于纯Python代码。**"
   ]
  },
  {
   "cell_type": "code",
   "execution_count": 3,
   "metadata": {},
   "outputs": [
    {
     "name": "stdout",
     "output_type": "stream",
     "text": [
      "(2, 3) (4,) (2, 2, 3)\n"
     ]
    }
   ],
   "source": [
    "# ndarray的形状\n",
    "import numpy as np\n",
    "\n",
    "a = np.array([[1,2,3], [4,5,6]])\n",
    "b = np.array([1,2,3,4])\n",
    "c = np.array([[[1,2,3],[4,5,6]],[[1,2,3],[4,5,6]]])\n",
    "\n",
    "print(a.shape,\n",
    "b.shape,\n",
    "c.shape)"
   ]
  },
  {
   "cell_type": "code",
   "execution_count": 4,
   "metadata": {},
   "outputs": [
    {
     "data": {
      "text/plain": [
       "numpy.dtype"
      ]
     },
     "execution_count": 4,
     "metadata": {},
     "output_type": "execute_result"
    }
   ],
   "source": [
    "# ndarray的类型\n",
    "type(score.dtype)"
   ]
  },
  {
   "cell_type": "code",
   "execution_count": 5,
   "metadata": {},
   "outputs": [
    {
     "data": {
      "text/plain": [
       "dtype('int32')"
      ]
     },
     "execution_count": 5,
     "metadata": {},
     "output_type": "execute_result"
    }
   ],
   "source": [
    "score.dtype  # numpy中的描述类型的属性"
   ]
  },
  {
   "cell_type": "markdown",
   "metadata": {},
   "source": [
    "### 生成各种ndarray数组的方法"
   ]
  },
  {
   "cell_type": "markdown",
   "metadata": {},
   "source": [
    "***1 生成0和1的数组***"
   ]
  },
  {
   "cell_type": "code",
   "execution_count": 6,
   "metadata": {},
   "outputs": [
    {
     "data": {
      "text/plain": [
       "array([[0., 0., 0., 0.],\n",
       "       [0., 0., 0., 0.],\n",
       "       [0., 0., 0., 0.]])"
      ]
     },
     "execution_count": 6,
     "metadata": {},
     "output_type": "execute_result"
    }
   ],
   "source": [
    "zero = np.zeros([3, 4])\n",
    "zero"
   ]
  },
  {
   "cell_type": "code",
   "execution_count": 7,
   "metadata": {},
   "outputs": [
    {
     "data": {
      "text/plain": [
       "array([[1., 1., 1., 1.],\n",
       "       [1., 1., 1., 1.],\n",
       "       [1., 1., 1., 1.]])"
      ]
     },
     "execution_count": 7,
     "metadata": {},
     "output_type": "execute_result"
    }
   ],
   "source": [
    "one = np.ones([3, 4])\n",
    "one"
   ]
  },
  {
   "cell_type": "markdown",
   "metadata": {},
   "source": [
    "***2、从现有的数据中创建***"
   ]
  },
  {
   "cell_type": "code",
   "execution_count": 8,
   "metadata": {},
   "outputs": [],
   "source": [
    "a = np.array([[1,2,3],[4,5,6]])\n",
    "# 从现有的数组当中创建\n",
    "a1 = np.array(a)\n",
    "# 相当于索引的形式，并没有真正的创建一个新的\n",
    "a2 = np.asarray(a)"
   ]
  },
  {
   "cell_type": "markdown",
   "metadata": {},
   "source": [
    "* **2.1、关于array和asarray的不同**"
   ]
  },
  {
   "cell_type": "code",
   "execution_count": 9,
   "metadata": {},
   "outputs": [
    {
     "name": "stdout",
     "output_type": "stream",
     "text": [
      "[[1 2 3]\n",
      " [4 5 6]]\n",
      "[[1 2 3]\n",
      " [4 5 6]]\n"
     ]
    }
   ],
   "source": [
    "print(f\"{a1}\\n{a2}\")"
   ]
  },
  {
   "cell_type": "code",
   "execution_count": 10,
   "metadata": {},
   "outputs": [],
   "source": [
    "a[1] = 2"
   ]
  },
  {
   "cell_type": "code",
   "execution_count": 11,
   "metadata": {},
   "outputs": [
    {
     "data": {
      "text/plain": [
       "array([[1, 2, 3],\n",
       "       [4, 5, 6]])"
      ]
     },
     "execution_count": 11,
     "metadata": {},
     "output_type": "execute_result"
    }
   ],
   "source": [
    "a1  # 分配的新的id地址"
   ]
  },
  {
   "cell_type": "code",
   "execution_count": 12,
   "metadata": {},
   "outputs": [
    {
     "data": {
      "text/plain": [
       "array([[1, 2, 3],\n",
       "       [2, 2, 2]])"
      ]
     },
     "execution_count": 12,
     "metadata": {},
     "output_type": "execute_result"
    }
   ],
   "source": [
    "a2  # 对a的id地址的引用"
   ]
  },
  {
   "cell_type": "code",
   "execution_count": 13,
   "metadata": {},
   "outputs": [
    {
     "data": {
      "text/plain": [
       "(122417520, 122352304, 122417520)"
      ]
     },
     "execution_count": 13,
     "metadata": {},
     "output_type": "execute_result"
    }
   ],
   "source": [
    "id(a),id(a1),id(a2)"
   ]
  },
  {
   "cell_type": "markdown",
   "metadata": {},
   "source": [
    "***3、创建固定范围的数组***\n",
    "- **3.1、生成等间隔的数组**\n",
    "    - np.linspace (start, stop, num, endpoint, retstep, dtype)\n",
    "- **3.2、创建等差数组**\n",
    "    - numpy.arange(start,stop, step, dtype)\n",
    "- **3.3、创建等比数组**\n",
    "    - numpy.logspace(start,stop, num, endpoint, base, dtype)"
   ]
  },
  {
   "cell_type": "code",
   "execution_count": 14,
   "metadata": {},
   "outputs": [
    {
     "data": {
      "text/plain": [
       "array([  0.        ,  11.11111111,  22.22222222,  33.33333333,\n",
       "        44.44444444,  55.55555556,  66.66666667,  77.77777778,\n",
       "        88.88888889, 100.        ])"
      ]
     },
     "execution_count": 14,
     "metadata": {},
     "output_type": "execute_result"
    }
   ],
   "source": [
    "\"\"\"\n",
    "生成等间隔的数组:\n",
    "\n",
    "np.linspace (start, stop, num, endpoint, retstep, dtype)\n",
    "    start 序列的起始值\n",
    "    stop 序列的终止值，\n",
    "    如果endpoint为true，该值包含于序列中\n",
    "    num 要生成的等间隔样例数量，默认为50\n",
    "    endpoint 序列中是否包含stop值，默认为ture\n",
    "    retstep 如果为true，返回样例，\n",
    "    以及连续数字之间的步长\n",
    "    dtype 输出ndarray的数据类型\n",
    "\"\"\"\n",
    "# 生成等间隔的数组\n",
    "np.linspace(0, 100, 10)"
   ]
  },
  {
   "cell_type": "code",
   "execution_count": 15,
   "metadata": {},
   "outputs": [
    {
     "data": {
      "text/plain": [
       "array([10, 12, 14, 16, 18, 20, 22, 24, 26, 28, 30, 32, 34, 36, 38, 40, 42,\n",
       "       44, 46, 48])"
      ]
     },
     "execution_count": 15,
     "metadata": {},
     "output_type": "execute_result"
    }
   ],
   "source": [
    "# 生成等比数组\n",
    "np.arange(10, 50, 2)"
   ]
  },
  {
   "cell_type": "markdown",
   "metadata": {},
   "source": [
    "***4、创建随机数组***\n",
    "> - np.random模块\n",
    "    - **均匀分布**\n",
    "        - np.random.rand(10)\n",
    "        - np.random.uniform(0,100)\n",
    "        - np.random.randint(100)\n",
    "    - **正态分布？(给定均值／标准差／维度的正态分布)**\n",
    "        - np.random.normal(1.75, 0.2, (3,4))\n",
    "        - np.random.standard_normal(size=(3,4))"
   ]
  },
  {
   "cell_type": "code",
   "execution_count": 16,
   "metadata": {},
   "outputs": [
    {
     "data": {
      "text/plain": [
       "array([[1.8845772 , 1.64536285, 1.67374306, 1.66709845, 1.66283135,\n",
       "        1.92456195, 1.69019376, 1.77105979, 1.84582352, 1.89422086],\n",
       "       [1.95246806, 1.59622018, 1.78012925, 1.63468615, 1.58848525,\n",
       "        1.81684221, 1.652643  , 1.72307032, 1.6087323 , 1.64269829],\n",
       "       [1.69884716, 1.64393739, 1.86981442, 1.90811133, 1.98341294,\n",
       "        1.8080138 , 1.87170029, 1.76026961, 1.65480561, 1.58960902],\n",
       "       [1.72969057, 1.70797398, 1.74677323, 1.63633263, 1.76407953,\n",
       "        1.82440579, 1.78310456, 1.82595969, 1.60004477, 1.58901816],\n",
       "       [1.63851908, 1.58603042, 1.54454596, 1.85080877, 1.78086191,\n",
       "        1.64653734, 1.73861373, 1.75223131, 1.71180747, 1.712893  ],\n",
       "       [1.8045603 , 1.88011935, 1.8499743 , 1.64607031, 1.76547965,\n",
       "        1.84445397, 1.81294822, 1.90494781, 1.57951238, 1.55505943],\n",
       "       [1.8073189 , 1.67778742, 1.97363473, 1.65523641, 2.00245889,\n",
       "        1.66601735, 1.98155493, 1.50998108, 1.81708064, 1.65802113],\n",
       "       [1.7569223 , 1.76552351, 1.6962998 , 1.65564527, 1.77466629,\n",
       "        1.77623816, 1.62511332, 1.8130847 , 1.80112293, 1.7600119 ],\n",
       "       [1.90933106, 1.77574151, 1.83786335, 1.73775904, 1.67227052,\n",
       "        1.57226794, 1.79380885, 1.72434577, 1.86643973, 1.84862605],\n",
       "       [1.61912768, 1.72673608, 1.73021878, 1.77667787, 1.77474536,\n",
       "        1.80473025, 1.86023315, 1.72260107, 1.7997891 , 1.77822207]])"
      ]
     },
     "execution_count": 16,
     "metadata": {},
     "output_type": "execute_result"
    }
   ],
   "source": [
    "# 创建均匀分布的数组\n",
    "# 0~1\n",
    "np.random.rand(10)\n",
    "\n",
    "# 默认范围一个数\n",
    "np.random.uniform(0, 100)\n",
    "\n",
    "# 随机整数\n",
    "np.random.randint(10)\n",
    "\n",
    "# 正态分布(尽可能的拟合正态分布函数)\n",
    "np.random.normal(1.75, 0.1, (10, 10))"
   ]
  },
  {
   "cell_type": "markdown",
   "metadata": {},
   "source": [
    "### 综合api使用\n",
    "- **随机生成500个股票两年的交易日涨幅数据**\n",
    "> 两年的交易日数量为：2 X 252 = 504\n",
    ">> 随机生成涨跌幅在某个正态分布内，比如均值0，方差1"
   ]
  },
  {
   "cell_type": "markdown",
   "metadata": {},
   "source": [
    "***1、股票涨跌幅数据的创建***"
   ]
  },
  {
   "cell_type": "code",
   "execution_count": 17,
   "metadata": {},
   "outputs": [
    {
     "data": {
      "text/plain": [
       "(500, 504)"
      ]
     },
     "execution_count": 17,
     "metadata": {},
     "output_type": "execute_result"
    }
   ],
   "source": [
    "# 创建一个符合正太分布的500个股票504天的涨跌幅数据\n",
    "stock_day_rise = np.random.normal(0, 1, (500, 504))\n",
    "stock_day_rise.shape"
   ]
  },
  {
   "cell_type": "markdown",
   "metadata": {},
   "source": [
    "***2、数组的索引***"
   ]
  },
  {
   "cell_type": "code",
   "execution_count": 18,
   "metadata": {},
   "outputs": [
    {
     "data": {
      "text/plain": [
       "array([-0.25223493,  0.82979083, -0.86017872, -0.10494755,  0.35381554,\n",
       "       -0.61013138,  1.96358735, -2.24031621, -0.07088358, -0.39959541])"
      ]
     },
     "execution_count": 18,
     "metadata": {},
     "output_type": "execute_result"
    }
   ],
   "source": [
    "# 二维的数组，两个维度 \n",
    "stock_day_rise[0, 0:10]"
   ]
  },
  {
   "cell_type": "code",
   "execution_count": 19,
   "metadata": {},
   "outputs": [
    {
     "data": {
      "text/plain": [
       "2"
      ]
     },
     "execution_count": 19,
     "metadata": {},
     "output_type": "execute_result"
    }
   ],
   "source": [
    "# 三维，一维\n",
    "a1 = np.array([[[1,2,3],[4,5,6]], [[12,3,34],[5,6,7]]])\n",
    "a1[0, 0, 1]"
   ]
  },
  {
   "cell_type": "markdown",
   "metadata": {},
   "source": [
    "***3、数组形状与类型变化***\n",
    "- **3.1修改形状**"
   ]
  },
  {
   "cell_type": "code",
   "execution_count": 20,
   "metadata": {},
   "outputs": [
    {
     "data": {
      "text/plain": [
       "array([[-0.25223493,  0.82979083, -0.86017872, ..., -0.28123341,\n",
       "        -0.00424964, -1.11398176],\n",
       "       [ 1.2860969 , -0.52643197,  0.02689389, ..., -0.7584092 ,\n",
       "         0.78962852,  0.09843484],\n",
       "       [ 0.66511592,  1.10764923,  0.67214777, ...,  0.45244561,\n",
       "         0.07592763, -0.06332597],\n",
       "       ...,\n",
       "       [-0.33641779,  1.20747354,  0.83674362, ..., -1.19177192,\n",
       "        -1.44817332, -1.46191188],\n",
       "       [-0.02447261,  0.12099922, -0.44684776, ...,  0.27365185,\n",
       "         0.38642897, -0.53163144],\n",
       "       [ 0.25526792,  0.3599213 ,  1.23749669, ...,  1.91812233,\n",
       "         0.92249912,  0.37985828]])"
      ]
     },
     "execution_count": 20,
     "metadata": {},
     "output_type": "execute_result"
    }
   ],
   "source": [
    "# 在转换形状的时候，一定要注意数组的元素匹配\n",
    "stock_day_rise.reshape([504, 500])  # 改变数组形状，让刚才的股票行、日期列反过来，变成日期行，股票列"
   ]
  },
  {
   "cell_type": "code",
   "execution_count": 21,
   "metadata": {},
   "outputs": [],
   "source": [
    "stock_day_rise.resize([504,500]  # 改变数组大小"
   ]
  },
  {
   "cell_type": "code",
   "execution_count": 22,
   "metadata": {},
   "outputs": [
    {
     "data": {
      "text/plain": [
       "array([-0.25223493,  0.82979083, -0.86017872, ...,  1.91812233,\n",
       "        0.92249912,  0.37985828])"
      ]
     },
     "execution_count": 22,
     "metadata": {},
     "output_type": "execute_result"
    }
   ],
   "source": [
    "stock_day_rise.flatten()  # 即返回一个折叠成一维的数组"
   ]
  },
  {
   "cell_type": "markdown",
   "metadata": {},
   "source": [
    "- **3.2修改类型**"
   ]
  },
  {
   "cell_type": "code",
   "execution_count": 23,
   "metadata": {},
   "outputs": [
    {
     "data": {
      "text/plain": [
       "array([[ 0,  0,  0, ...,  0,  0, -1],\n",
       "       [ 1,  0,  0, ...,  0,  0,  0],\n",
       "       [ 0,  1,  0, ...,  0,  0,  0],\n",
       "       ...,\n",
       "       [ 0,  1,  0, ..., -1, -1, -1],\n",
       "       [ 0,  0,  0, ...,  0,  0,  0],\n",
       "       [ 0,  0,  1, ...,  1,  0,  0]])"
      ]
     },
     "execution_count": 23,
     "metadata": {},
     "output_type": "execute_result"
    }
   ],
   "source": [
    "stock_day_rise.reshape([504, 500]).astype(np.int32)"
   ]
  },
  {
   "cell_type": "markdown",
   "metadata": {},
   "source": [
    "- **3.3修改小数位数**"
   ]
  },
  {
   "cell_type": "code",
   "execution_count": 24,
   "metadata": {},
   "outputs": [
    {
     "data": {
      "text/plain": [
       "array([[-0.2522,  0.8298, -0.8602, -0.1049,  0.3538, -0.6101,  1.9636,\n",
       "        -2.2403, -0.0709, -0.3996,  0.6799,  0.1793, -0.5644, -1.5933,\n",
       "         0.3189, -1.3458, -0.0039,  0.0025,  0.0906,  0.2598],\n",
       "       [ 1.2861, -0.5264,  0.0269,  2.0323, -0.6239, -0.0484, -0.7328,\n",
       "         0.5073, -0.0274,  1.2761, -1.74  ,  0.6488,  1.1693,  0.3387,\n",
       "        -1.6547, -0.8698,  0.1748,  0.1509, -0.6276,  0.2117]])"
      ]
     },
     "execution_count": 24,
     "metadata": {},
     "output_type": "execute_result"
    }
   ],
   "source": [
    "np.round(stock_day_rise[:2, :20], 4)"
   ]
  },
  {
   "cell_type": "markdown",
   "metadata": {},
   "source": [
    "***4、数组转换***\n",
    "- **ndarray.T 数组的转置**\n",
    "    - 将数组的行、列进行互换"
   ]
  },
  {
   "cell_type": "code",
   "execution_count": 25,
   "metadata": {},
   "outputs": [
    {
     "data": {
      "text/plain": [
       "(504, 500)"
      ]
     },
     "execution_count": 25,
     "metadata": {},
     "output_type": "execute_result"
    }
   ],
   "source": [
    "stock_day_rise.shape\n",
    "(500, 504)\n",
    "stock_day_rise.T.shape\n",
    "(504, 500)"
   ]
  },
  {
   "cell_type": "code",
   "execution_count": 26,
   "metadata": {},
   "outputs": [
    {
     "data": {
      "text/plain": [
       "b'\\x01\\x00\\x00\\x00\\x02\\x00\\x00\\x00\\x03\\x00\\x00\\x00\\x04\\x00\\x00\\x00\\x05\\x00\\x00\\x00\\x06\\x00\\x00\\x00\\x0c\\x00\\x00\\x00\\x03\\x00\\x00\\x00\"\\x00\\x00\\x00\\x05\\x00\\x00\\x00\\x06\\x00\\x00\\x00\\x07\\x00\\x00\\x00'"
      ]
     },
     "execution_count": 26,
     "metadata": {},
     "output_type": "execute_result"
    }
   ],
   "source": [
    "# 转换成bytes\n",
    "arr = np.array([ [[1,2,3],[4,5,6]], [[12,3,34],[5,6,7]]])\n",
    "arr.tostring()"
   ]
  },
  {
   "cell_type": "code",
   "execution_count": 28,
   "metadata": {},
   "outputs": [],
   "source": [
    "# ndarray.copy([order]) Return a copy of the array.\n",
    "# 先从两年stock_day_rise拷贝一些数据\n",
    "temp = stock_day_rise[:4, :4].copy()"
   ]
  },
  {
   "cell_type": "code",
   "execution_count": 29,
   "metadata": {},
   "outputs": [
    {
     "data": {
      "text/plain": [
       "array([[-0.25223493,  0.82979083, -0.86017872, -0.10494755],\n",
       "       [ 1.2860969 , -0.52643197,  0.02689389,  2.03227513],\n",
       "       [ 0.66511592,  1.10764923,  0.67214777, -0.41660277],\n",
       "       [ 1.15417292,  1.57901676,  1.51461805, -0.54424864]])"
      ]
     },
     "execution_count": 29,
     "metadata": {},
     "output_type": "execute_result"
    }
   ],
   "source": [
    "temp"
   ]
  },
  {
   "cell_type": "markdown",
   "metadata": {},
   "source": [
    "### numpy逻辑运算"
   ]
  },
  {
   "cell_type": "code",
   "execution_count": 30,
   "metadata": {},
   "outputs": [],
   "source": [
    "# 逻辑判断\n",
    "temp > 0.5\n",
    "\n",
    "# 赋值\n",
    "temp[temp > 0.5] = 1"
   ]
  },
  {
   "cell_type": "code",
   "execution_count": 31,
   "metadata": {},
   "outputs": [
    {
     "data": {
      "text/plain": [
       "False"
      ]
     },
     "execution_count": 31,
     "metadata": {},
     "output_type": "execute_result"
    }
   ],
   "source": [
    "# 通用判断函数 np.all()\n",
    "\n",
    "# 判断stock_day_rise[0:2,0:5]是否全是上涨的\n",
    "np.all(stock_day_rise[0:2,0:5] > 0)  # bool"
   ]
  },
  {
   "cell_type": "code",
   "execution_count": 32,
   "metadata": {},
   "outputs": [
    {
     "data": {
      "text/plain": [
       "array([0, 1, 2])"
      ]
     },
     "execution_count": 32,
     "metadata": {},
     "output_type": "execute_result"
    }
   ],
   "source": [
    "# 返回新的数组的数值，不存在重复的值 np.unique()\n",
    "\n",
    "#将序列中数值值唯一且不重复的值组成新的序列\n",
    "change_int = stock_day_rise[0:2,0:5].astype(int)  # 修改类型\n",
    "np.unique(change_int)"
   ]
  },
  {
   "cell_type": "code",
   "execution_count": 33,
   "metadata": {},
   "outputs": [
    {
     "data": {
      "text/plain": [
       "array([[0, 1, 0, 0],\n",
       "       [1, 0, 1, 1],\n",
       "       [1, 1, 1, 0],\n",
       "       [1, 1, 1, 0]])"
      ]
     },
     "execution_count": 33,
     "metadata": {},
     "output_type": "execute_result"
    }
   ],
   "source": [
    "# np.where（三元运算符）\n",
    "# 通过使用np.where能够进行更加复杂的运算\n",
    "\n",
    "np.where(temp > 0, 1, 0)"
   ]
  },
  {
   "cell_type": "markdown",
   "metadata": {},
   "source": [
    "> **复合逻辑需要结合np.logical_and和np.logical_or使用**"
   ]
  },
  {
   "cell_type": "code",
   "execution_count": 35,
   "metadata": {},
   "outputs": [
    {
     "data": {
      "text/plain": [
       "array([[0, 0, 0, 0],\n",
       "       [0, 0, 0, 0],\n",
       "       [0, 0, 0, 0],\n",
       "       [0, 0, 0, 0]])"
      ]
     },
     "execution_count": 35,
     "metadata": {},
     "output_type": "execute_result"
    }
   ],
   "source": [
    "# 判断前四个股票前四天的涨跌幅 大于0.5并且小于1的，换为1，否则为0\n",
    "np.where(np.logical_and(temp > 0.5, temp < 1), 1, 0)"
   ]
  },
  {
   "cell_type": "code",
   "execution_count": 36,
   "metadata": {},
   "outputs": [
    {
     "data": {
      "text/plain": [
       "array([[0, 1, 1, 0],\n",
       "       [1, 1, 0, 1],\n",
       "       [1, 1, 1, 0],\n",
       "       [1, 1, 1, 1]])"
      ]
     },
     "execution_count": 36,
     "metadata": {},
     "output_type": "execute_result"
    }
   ],
   "source": [
    "# 判断前四个股票前四天的涨跌幅 大于0.5或者小于-0.5的，换为1，否则为0\n",
    "np.where(np.logical_or(temp > 0.5, temp < -0.5), 1, 0)"
   ]
  },
  {
   "cell_type": "markdown",
   "metadata": {},
   "source": [
    "### numpy统计计算"
   ]
  },
  {
   "cell_type": "code",
   "execution_count": null,
   "metadata": {},
   "outputs": [],
   "source": []
  }
 ],
 "metadata": {
  "kernelspec": {
   "display_name": "Python 3",
   "language": "python",
   "name": "python3"
  },
  "language_info": {
   "codemirror_mode": {
    "name": "ipython",
    "version": 3
   },
   "file_extension": ".py",
   "mimetype": "text/x-python",
   "name": "python",
   "nbconvert_exporter": "python",
   "pygments_lexer": "ipython3",
   "version": "3.6.4"
  }
 },
 "nbformat": 4,
 "nbformat_minor": 2
}
